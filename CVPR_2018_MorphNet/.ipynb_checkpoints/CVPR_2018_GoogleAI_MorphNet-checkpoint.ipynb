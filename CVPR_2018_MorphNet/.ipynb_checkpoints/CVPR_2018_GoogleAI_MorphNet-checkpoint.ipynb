{
 "cells": [
  {
   "cell_type": "markdown",
   "metadata": {},
   "source": [
    "# MorphNet: Fast & Simple Resource-Constrained Structure Learning of Deep Networks\n",
    "<h2> CVPR 2018_ Ariel Gordon et al. Google AI </h2>\n",
    "\n",
    "The paper presents an interesting method that takes a trained network (ResNet101) as inputs and change the network architectures with respected to targeted resources (e.g. FLOPs or network size). \n",
    "![](./fig1.JPG)\n",
    "\n",
    "It **shrinks** and **expands** the baseline network iteratively using the L1-norm Regularization approach (for shrinking) and width multiplier (for expanding). These two approachs are not new in this research domain; for example, width multiplier was used in MobileNet and regularization using L1 is also widely used. The idea behind this is that shrinking prunes uneccessary neurons helps reducing network sizes; however it also degrades the performance. Thus, it requires to expands the network with resource constraints to achieve the desired accuracy. It turns out that when we expands the networks using useful neurons, it help improve the accuracy. The overal algorithm is as follows: \n",
    "![](./fig2.JPG)\n",
    "\n",
    "<h3> How to shrink ? </h3>\n",
    "This paper focus on elimnating useless neurons by minimizing normal loss function $L(\\theta)$ along with a function $G(\\theta)$\n",
    "using L1-norm. $G(\\theta)$  is defined as: \\\n",
    "![](./fig3.JPG)\n",
    "![](./fig4.JPG)\n",
    "\n",
    "$G(\\theta)$ controls the number of neurons in each layer by assigning a value $\\gamma$ for each neuron.$\\gamma$ represents the impact of each neuron meaning that if  $\\gamma = 0$ for a neuron, this neuron can be effectively zero out.\n",
    "\n",
    "<h3> Results </h3>\n",
    "The paper shows amazing results on diffent datasets: Imagenet, JFT and AudioSet. Interestingly, it gains 1.1% accuracy improvement againt InceptionV2 on ImageNet.\n",
    "\n",
    "![](./fig5.JPG)\n",
    "\n"
   ]
  },
  {
   "cell_type": "code",
   "execution_count": null,
   "metadata": {},
   "outputs": [],
   "source": []
  }
 ],
 "metadata": {
  "kernelspec": {
   "display_name": "Python 3",
   "language": "python",
   "name": "python3"
  },
  "language_info": {
   "codemirror_mode": {
    "name": "ipython",
    "version": 3
   },
   "file_extension": ".py",
   "mimetype": "text/x-python",
   "name": "python",
   "nbconvert_exporter": "python",
   "pygments_lexer": "ipython3",
   "version": "3.7.3"
  }
 },
 "nbformat": 4,
 "nbformat_minor": 2
}
